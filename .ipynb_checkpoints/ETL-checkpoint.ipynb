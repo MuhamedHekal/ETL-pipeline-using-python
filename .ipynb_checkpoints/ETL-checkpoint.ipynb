{
 "cells": [
  {
   "cell_type": "markdown",
   "id": "50136293-0364-462c-8cab-70ca21ea9e25",
   "metadata": {},
   "source": [
    "# ETL process\n",
    "develop the etl process before create the pipline to ensure that all process working with no error"
   ]
  },
  {
   "cell_type": "code",
   "execution_count": 2,
   "id": "48c96367-1101-4e46-9e72-666ca0c2fe21",
   "metadata": {},
   "outputs": [],
   "source": [
    "from Sql_Queries import * \n",
    "import psycopg2\n",
    "import pandas as pd\n",
    "import os"
   ]
  },
  {
   "cell_type": "code",
   "execution_count": 3,
   "id": "0e9e2c56-df92-4767-8653-57bb88235eb8",
   "metadata": {},
   "outputs": [],
   "source": [
    "try:\n",
    "    conn = psycopg2.connect('host= 127.0.0.1 dbname=sparkify user=postgres password=123')\n",
    "    cur= conn.cursor()\n",
    "except psycopg2.Error as e:\n",
    "    print(e)\n",
    "    print('can not connect to the sparkify database')"
   ]
  },
  {
   "cell_type": "code",
   "execution_count": 4,
   "id": "3d11de6c-78c7-4a82-90bd-ab1c72ab40e8",
   "metadata": {},
   "outputs": [],
   "source": [
    "def get_json_file_paths(folder_path):\n",
    "    \"\"\"\n",
    "    Recursively retrieves the absolute paths of all JSON files in the specified folder and its subfolders.\n",
    "    Args:\n",
    "        folder_path (str): Path to the root folder containing JSON files.\n",
    "    Returns:\n",
    "        list: A list of absolute file paths.\n",
    "    \"\"\"\n",
    "    json_file_paths = []\n",
    "    for root, _, files in os.walk(folder_path):\n",
    "        for filename in files:\n",
    "            if filename.endswith(\".json\"):\n",
    "                json_file_paths.append(os.path.join(root, filename))\n",
    "    return json_file_paths"
   ]
  },
  {
   "cell_type": "markdown",
   "id": "e97cc008-ad12-4af9-97c3-fd65524d0e93",
   "metadata": {},
   "source": [
    "## Song Dataset\n",
    "The first dataset is a subset of real data from the Million Song Dataset. Each file is in JSON format and contains metadata about a song and the artist of that song. The files are partitioned by the first three letters of each song's track ID\n",
    "### process song dataset\n",
    "use Song data set to perform ETL process and load the data into the **artists** and **songs** dimintion tables"
   ]
  },
  {
   "cell_type": "code",
   "execution_count": 28,
   "id": "3b8b8ebe-f465-4fff-abd0-57d387229d89",
   "metadata": {},
   "outputs": [],
   "source": [
    "songs_paths = get_json_file_paths(\"./data/song_data\")"
   ]
  },
  {
   "cell_type": "code",
   "execution_count": 30,
   "id": "44686d73-f9ec-4f30-9ef3-d2379fc46714",
   "metadata": {},
   "outputs": [
    {
     "data": {
      "text/html": [
       "<div>\n",
       "<style scoped>\n",
       "    .dataframe tbody tr th:only-of-type {\n",
       "        vertical-align: middle;\n",
       "    }\n",
       "\n",
       "    .dataframe tbody tr th {\n",
       "        vertical-align: top;\n",
       "    }\n",
       "\n",
       "    .dataframe thead th {\n",
       "        text-align: right;\n",
       "    }\n",
       "</style>\n",
       "<table border=\"1\" class=\"dataframe\">\n",
       "  <thead>\n",
       "    <tr style=\"text-align: right;\">\n",
       "      <th></th>\n",
       "      <th>num_songs</th>\n",
       "      <th>artist_id</th>\n",
       "      <th>artist_latitude</th>\n",
       "      <th>artist_longitude</th>\n",
       "      <th>artist_location</th>\n",
       "      <th>artist_name</th>\n",
       "      <th>song_id</th>\n",
       "      <th>title</th>\n",
       "      <th>duration</th>\n",
       "      <th>year</th>\n",
       "    </tr>\n",
       "  </thead>\n",
       "  <tbody>\n",
       "    <tr>\n",
       "      <th>0</th>\n",
       "      <td>1</td>\n",
       "      <td>ARD7TVE1187B99BFB1</td>\n",
       "      <td>NaN</td>\n",
       "      <td>NaN</td>\n",
       "      <td>California - LA</td>\n",
       "      <td>Casual</td>\n",
       "      <td>SOMZWCG12A8C13C480</td>\n",
       "      <td>I Didn't Mean To</td>\n",
       "      <td>218.93179</td>\n",
       "      <td>0</td>\n",
       "    </tr>\n",
       "  </tbody>\n",
       "</table>\n",
       "</div>"
      ],
      "text/plain": [
       "   num_songs           artist_id  artist_latitude  artist_longitude  \\\n",
       "0          1  ARD7TVE1187B99BFB1              NaN               NaN   \n",
       "\n",
       "   artist_location artist_name             song_id             title  \\\n",
       "0  California - LA      Casual  SOMZWCG12A8C13C480  I Didn't Mean To   \n",
       "\n",
       "    duration  year  \n",
       "0  218.93179     0  "
      ]
     },
     "execution_count": 30,
     "metadata": {},
     "output_type": "execute_result"
    }
   ],
   "source": [
    "song_df = pd.read_json(songs_paths[0], lines=True)\n",
    "song_df"
   ]
  },
  {
   "cell_type": "markdown",
   "id": "ac0d4396-fb26-45aa-9e45-bc68a0737640",
   "metadata": {},
   "source": [
    "### #1: Songs Table\n",
    "|FROM|--->|TO|\n",
    "|---|---|---|\n",
    "|song_id|--->|song_id|\n",
    "title|--->|title\n",
    "artist_id|--->|artist_id \n",
    "year|--->|year\n",
    "duration|--->|duration "
   ]
  },
  {
   "cell_type": "code",
   "execution_count": 31,
   "id": "1d9566f8-3fd7-4621-a800-f0baa745e24d",
   "metadata": {},
   "outputs": [
    {
     "data": {
      "text/plain": [
       "array(['SOMZWCG12A8C13C480', \"I Didn't Mean To\", 'ARD7TVE1187B99BFB1', 0,\n",
       "       218.93179], dtype=object)"
      ]
     },
     "execution_count": 31,
     "metadata": {},
     "output_type": "execute_result"
    }
   ],
   "source": [
    "songs = song_df[['song_id', 'title', 'artist_id', 'year', 'duration']].values[0]\n",
    "songs"
   ]
  },
  {
   "cell_type": "markdown",
   "id": "46ce8e92-2885-48bc-b9c3-07bafa6c2b2d",
   "metadata": {},
   "source": [
    "#### insert into songs table \n",
    "using `songs_table_insert` in `SqL_Queires.py` file transfer the data in the songs table"
   ]
  },
  {
   "cell_type": "code",
   "execution_count": 32,
   "id": "047d379d-4f56-47d1-ba36-5a8a7daf851b",
   "metadata": {},
   "outputs": [],
   "source": [
    "cur.execute(songs_table_insert, songs)\n",
    "conn.commit()"
   ]
  },
  {
   "cell_type": "markdown",
   "id": "447c9dd3-6066-433b-ba0c-4b6dfc27a7fc",
   "metadata": {},
   "source": [
    "### #2: artists Table \n",
    "|FROM|--->|TO|\n",
    "|---|---|---|\n",
    "|artist_id|--->|artist_id|\n",
    "artist_name|--->|name\n",
    "artist_location|--->|location \n",
    "artist_latitude|--->|latitude\n",
    "artist_longitude|--->|longitude "
   ]
  },
  {
   "cell_type": "code",
   "execution_count": 39,
   "id": "3a49fcf3-040d-46f2-bc30-d0b94c89abd4",
   "metadata": {},
   "outputs": [
    {
     "data": {
      "text/plain": [
       "array(['ARD7TVE1187B99BFB1', 'Casual', 'California - LA', nan, nan],\n",
       "      dtype=object)"
      ]
     },
     "execution_count": 39,
     "metadata": {},
     "output_type": "execute_result"
    }
   ],
   "source": [
    "artists= song_df[['artist_id', 'artist_name', 'artist_location', 'artist_latitude', 'artist_longitude']].values[0]\n",
    "artists"
   ]
  },
  {
   "cell_type": "markdown",
   "id": "e7182eae-96fa-4a0c-9de9-392e3b580b0a",
   "metadata": {},
   "source": [
    "#### insert into artists table \n",
    "using `artists_table_insert` in `SqL_Queires.py` file transfer the data in the songs table"
   ]
  },
  {
   "cell_type": "code",
   "execution_count": 40,
   "id": "7369af66-95b9-43fe-a4ee-60b0b80e86ac",
   "metadata": {},
   "outputs": [],
   "source": [
    "cur.execute(artists_table_insert, artists)\n",
    "conn.commit()"
   ]
  },
  {
   "cell_type": "markdown",
   "id": "ab18df59-2622-4a68-8fa5-7c11db03df7b",
   "metadata": {},
   "source": [
    "### process Log dataset\n",
    "use Song data set to perform ETL process and load the data into the **users** and **time** dimintion tables"
   ]
  },
  {
   "cell_type": "code",
   "execution_count": 5,
   "id": "f251ae2e-7bc4-4b4e-99ba-4c65fe3a272e",
   "metadata": {},
   "outputs": [],
   "source": [
    "logs_paths = get_json_file_paths(\"./data/log_data/\")"
   ]
  },
  {
   "cell_type": "code",
   "execution_count": 8,
   "id": "217eb791-44bf-48ec-9c0d-4aad55c94dde",
   "metadata": {},
   "outputs": [
    {
     "data": {
      "text/html": [
       "<div>\n",
       "<style scoped>\n",
       "    .dataframe tbody tr th:only-of-type {\n",
       "        vertical-align: middle;\n",
       "    }\n",
       "\n",
       "    .dataframe tbody tr th {\n",
       "        vertical-align: top;\n",
       "    }\n",
       "\n",
       "    .dataframe thead th {\n",
       "        text-align: right;\n",
       "    }\n",
       "</style>\n",
       "<table border=\"1\" class=\"dataframe\">\n",
       "  <thead>\n",
       "    <tr style=\"text-align: right;\">\n",
       "      <th></th>\n",
       "      <th>artist</th>\n",
       "      <th>auth</th>\n",
       "      <th>firstName</th>\n",
       "      <th>gender</th>\n",
       "      <th>itemInSession</th>\n",
       "      <th>lastName</th>\n",
       "      <th>length</th>\n",
       "      <th>level</th>\n",
       "      <th>location</th>\n",
       "      <th>method</th>\n",
       "      <th>page</th>\n",
       "      <th>registration</th>\n",
       "      <th>sessionId</th>\n",
       "      <th>song</th>\n",
       "      <th>status</th>\n",
       "      <th>ts</th>\n",
       "      <th>userAgent</th>\n",
       "      <th>userId</th>\n",
       "    </tr>\n",
       "  </thead>\n",
       "  <tbody>\n",
       "    <tr>\n",
       "      <th>0</th>\n",
       "      <td>None</td>\n",
       "      <td>Logged In</td>\n",
       "      <td>Walter</td>\n",
       "      <td>M</td>\n",
       "      <td>0</td>\n",
       "      <td>Frye</td>\n",
       "      <td>NaN</td>\n",
       "      <td>free</td>\n",
       "      <td>San Francisco-Oakland-Hayward, CA</td>\n",
       "      <td>GET</td>\n",
       "      <td>Home</td>\n",
       "      <td>1540919166796</td>\n",
       "      <td>38</td>\n",
       "      <td>None</td>\n",
       "      <td>200</td>\n",
       "      <td>1541105830796</td>\n",
       "      <td>\"Mozilla/5.0 (Macintosh; Intel Mac OS X 10_9_4...</td>\n",
       "      <td>39</td>\n",
       "    </tr>\n",
       "    <tr>\n",
       "      <th>1</th>\n",
       "      <td>None</td>\n",
       "      <td>Logged In</td>\n",
       "      <td>Kaylee</td>\n",
       "      <td>F</td>\n",
       "      <td>0</td>\n",
       "      <td>Summers</td>\n",
       "      <td>NaN</td>\n",
       "      <td>free</td>\n",
       "      <td>Phoenix-Mesa-Scottsdale, AZ</td>\n",
       "      <td>GET</td>\n",
       "      <td>Home</td>\n",
       "      <td>1540344794796</td>\n",
       "      <td>139</td>\n",
       "      <td>None</td>\n",
       "      <td>200</td>\n",
       "      <td>1541106106796</td>\n",
       "      <td>\"Mozilla/5.0 (Windows NT 6.1; WOW64) AppleWebK...</td>\n",
       "      <td>8</td>\n",
       "    </tr>\n",
       "    <tr>\n",
       "      <th>2</th>\n",
       "      <td>Des'ree</td>\n",
       "      <td>Logged In</td>\n",
       "      <td>Kaylee</td>\n",
       "      <td>F</td>\n",
       "      <td>1</td>\n",
       "      <td>Summers</td>\n",
       "      <td>246.30812</td>\n",
       "      <td>free</td>\n",
       "      <td>Phoenix-Mesa-Scottsdale, AZ</td>\n",
       "      <td>PUT</td>\n",
       "      <td>NextSong</td>\n",
       "      <td>1540344794796</td>\n",
       "      <td>139</td>\n",
       "      <td>You Gotta Be</td>\n",
       "      <td>200</td>\n",
       "      <td>1541106106796</td>\n",
       "      <td>\"Mozilla/5.0 (Windows NT 6.1; WOW64) AppleWebK...</td>\n",
       "      <td>8</td>\n",
       "    </tr>\n",
       "    <tr>\n",
       "      <th>3</th>\n",
       "      <td>None</td>\n",
       "      <td>Logged In</td>\n",
       "      <td>Kaylee</td>\n",
       "      <td>F</td>\n",
       "      <td>2</td>\n",
       "      <td>Summers</td>\n",
       "      <td>NaN</td>\n",
       "      <td>free</td>\n",
       "      <td>Phoenix-Mesa-Scottsdale, AZ</td>\n",
       "      <td>GET</td>\n",
       "      <td>Upgrade</td>\n",
       "      <td>1540344794796</td>\n",
       "      <td>139</td>\n",
       "      <td>None</td>\n",
       "      <td>200</td>\n",
       "      <td>1541106132796</td>\n",
       "      <td>\"Mozilla/5.0 (Windows NT 6.1; WOW64) AppleWebK...</td>\n",
       "      <td>8</td>\n",
       "    </tr>\n",
       "    <tr>\n",
       "      <th>4</th>\n",
       "      <td>Mr Oizo</td>\n",
       "      <td>Logged In</td>\n",
       "      <td>Kaylee</td>\n",
       "      <td>F</td>\n",
       "      <td>3</td>\n",
       "      <td>Summers</td>\n",
       "      <td>144.03873</td>\n",
       "      <td>free</td>\n",
       "      <td>Phoenix-Mesa-Scottsdale, AZ</td>\n",
       "      <td>PUT</td>\n",
       "      <td>NextSong</td>\n",
       "      <td>1540344794796</td>\n",
       "      <td>139</td>\n",
       "      <td>Flat 55</td>\n",
       "      <td>200</td>\n",
       "      <td>1541106352796</td>\n",
       "      <td>\"Mozilla/5.0 (Windows NT 6.1; WOW64) AppleWebK...</td>\n",
       "      <td>8</td>\n",
       "    </tr>\n",
       "  </tbody>\n",
       "</table>\n",
       "</div>"
      ],
      "text/plain": [
       "    artist       auth firstName gender  itemInSession lastName     length  \\\n",
       "0     None  Logged In    Walter      M              0     Frye        NaN   \n",
       "1     None  Logged In    Kaylee      F              0  Summers        NaN   \n",
       "2  Des'ree  Logged In    Kaylee      F              1  Summers  246.30812   \n",
       "3     None  Logged In    Kaylee      F              2  Summers        NaN   \n",
       "4  Mr Oizo  Logged In    Kaylee      F              3  Summers  144.03873   \n",
       "\n",
       "  level                           location method      page   registration  \\\n",
       "0  free  San Francisco-Oakland-Hayward, CA    GET      Home  1540919166796   \n",
       "1  free        Phoenix-Mesa-Scottsdale, AZ    GET      Home  1540344794796   \n",
       "2  free        Phoenix-Mesa-Scottsdale, AZ    PUT  NextSong  1540344794796   \n",
       "3  free        Phoenix-Mesa-Scottsdale, AZ    GET   Upgrade  1540344794796   \n",
       "4  free        Phoenix-Mesa-Scottsdale, AZ    PUT  NextSong  1540344794796   \n",
       "\n",
       "   sessionId          song  status             ts  \\\n",
       "0         38          None     200  1541105830796   \n",
       "1        139          None     200  1541106106796   \n",
       "2        139  You Gotta Be     200  1541106106796   \n",
       "3        139          None     200  1541106132796   \n",
       "4        139       Flat 55     200  1541106352796   \n",
       "\n",
       "                                           userAgent  userId  \n",
       "0  \"Mozilla/5.0 (Macintosh; Intel Mac OS X 10_9_4...      39  \n",
       "1  \"Mozilla/5.0 (Windows NT 6.1; WOW64) AppleWebK...       8  \n",
       "2  \"Mozilla/5.0 (Windows NT 6.1; WOW64) AppleWebK...       8  \n",
       "3  \"Mozilla/5.0 (Windows NT 6.1; WOW64) AppleWebK...       8  \n",
       "4  \"Mozilla/5.0 (Windows NT 6.1; WOW64) AppleWebK...       8  "
      ]
     },
     "execution_count": 8,
     "metadata": {},
     "output_type": "execute_result"
    }
   ],
   "source": [
    "log_df = pd.read_json(logs_paths[0], lines=True)\n",
    "log_df.head()"
   ]
  },
  {
   "cell_type": "markdown",
   "id": "c2fcf8f3-b2f3-4305-8a6d-ddc2255525c4",
   "metadata": {},
   "source": [
    "### #3: users Table \n",
    "|FROM|--->|TO|\n",
    "|---|---|---|\n",
    "|userId|--->|user_id|\n",
    "|firstName|--->|first_name|\n",
    "|lastName|--->|last_name|\n",
    "|gender|--->|gender|\n",
    "|level|--->|level|"
   ]
  },
  {
   "cell_type": "markdown",
   "id": "1056f6d9-840a-43f0-b8ae-45e0774037ee",
   "metadata": {},
   "source": [
    "#### insert into users table \n",
    "using `users_table_insert` in `SqL_Queires.py` file transfer the data in the songs table"
   ]
  },
  {
   "cell_type": "code",
   "execution_count": 14,
   "id": "ba69f090-c448-423e-8c09-9c5ba19a509a",
   "metadata": {},
   "outputs": [],
   "source": [
    "users = log_df[['userId','firstName','lastName','gender','level']]"
   ]
  },
  {
   "cell_type": "code",
   "execution_count": 17,
   "id": "975e71ad-d286-4643-8ec0-cb96eb55aeec",
   "metadata": {},
   "outputs": [
    {
     "name": "stderr",
     "output_type": "stream",
     "text": [
      "C:\\Users\\hheka\\AppData\\Local\\Temp\\ipykernel_22752\\2552139813.py:2: FutureWarning: Series.__getitem__ treating keys as positions is deprecated. In a future version, integer keys will always be treated as labels (consistent with DataFrame behavior). To access a value by position, use `ser.iloc[pos]`\n",
      "  cur.execute(users_table_insert, row)\n"
     ]
    }
   ],
   "source": [
    "for i, row in users.iterrows():\n",
    "    cur.execute(users_table_insert, row)\n",
    "    conn.commit()"
   ]
  },
  {
   "cell_type": "markdown",
   "id": "d4078d0d-3799-4f8e-8e5f-6c7480f5b556",
   "metadata": {},
   "source": [
    "### #4: time Table \n",
    "|FROM|--->|TO|\n",
    "|---|---|---|\n",
    "|ts|--->|start_time|\n",
    "|ts|--->|hour|\n",
    "|ts|--->|day|\n",
    "|ts|--->|week|\n",
    "|ts|--->|month|\n",
    "|ts|--->|year|\n",
    "|ts|--->|weekday|"
   ]
  },
  {
   "cell_type": "code",
   "execution_count": 24,
   "id": "3f3ff70e-004c-433b-aafb-6f8959c5fe89",
   "metadata": {},
   "outputs": [
    {
     "data": {
      "text/plain": [
       "0    1541105830796\n",
       "1    1541106106796\n",
       "2    1541106106796\n",
       "3    1541106132796\n",
       "4    1541106352796\n",
       "Name: ts, dtype: int64"
      ]
     },
     "execution_count": 24,
     "metadata": {},
     "output_type": "execute_result"
    }
   ],
   "source": [
    "time = log_df['ts']\n",
    "time.head()"
   ]
  },
  {
   "cell_type": "code",
   "execution_count": 25,
   "id": "9f8ab281-a606-4b38-923f-1131234111d4",
   "metadata": {},
   "outputs": [],
   "source": [
    "time = pd.to_datetime(time, unit='ms')\n",
    "time_df = pd.DataFrame(columns = ['start_time', 'hour', 'day', 'week', 'month', 'year', 'weekday'])"
   ]
  },
  {
   "cell_type": "code",
   "execution_count": 27,
   "id": "f0e815a6-a686-40d5-a41d-5d2bfc97c161",
   "metadata": {},
   "outputs": [
    {
     "data": {
      "text/html": [
       "<div>\n",
       "<style scoped>\n",
       "    .dataframe tbody tr th:only-of-type {\n",
       "        vertical-align: middle;\n",
       "    }\n",
       "\n",
       "    .dataframe tbody tr th {\n",
       "        vertical-align: top;\n",
       "    }\n",
       "\n",
       "    .dataframe thead th {\n",
       "        text-align: right;\n",
       "    }\n",
       "</style>\n",
       "<table border=\"1\" class=\"dataframe\">\n",
       "  <thead>\n",
       "    <tr style=\"text-align: right;\">\n",
       "      <th></th>\n",
       "      <th>start_time</th>\n",
       "      <th>hour</th>\n",
       "      <th>day</th>\n",
       "      <th>week</th>\n",
       "      <th>month</th>\n",
       "      <th>year</th>\n",
       "      <th>weekday</th>\n",
       "    </tr>\n",
       "  </thead>\n",
       "  <tbody>\n",
       "    <tr>\n",
       "      <th>0</th>\n",
       "      <td>2018-11-01 20:57:10.796</td>\n",
       "      <td>20</td>\n",
       "      <td>1</td>\n",
       "      <td>44</td>\n",
       "      <td>11</td>\n",
       "      <td>2018</td>\n",
       "      <td>3</td>\n",
       "    </tr>\n",
       "    <tr>\n",
       "      <th>1</th>\n",
       "      <td>2018-11-01 21:01:46.796</td>\n",
       "      <td>21</td>\n",
       "      <td>1</td>\n",
       "      <td>44</td>\n",
       "      <td>11</td>\n",
       "      <td>2018</td>\n",
       "      <td>3</td>\n",
       "    </tr>\n",
       "    <tr>\n",
       "      <th>2</th>\n",
       "      <td>2018-11-01 21:01:46.796</td>\n",
       "      <td>21</td>\n",
       "      <td>1</td>\n",
       "      <td>44</td>\n",
       "      <td>11</td>\n",
       "      <td>2018</td>\n",
       "      <td>3</td>\n",
       "    </tr>\n",
       "    <tr>\n",
       "      <th>3</th>\n",
       "      <td>2018-11-01 21:02:12.796</td>\n",
       "      <td>21</td>\n",
       "      <td>1</td>\n",
       "      <td>44</td>\n",
       "      <td>11</td>\n",
       "      <td>2018</td>\n",
       "      <td>3</td>\n",
       "    </tr>\n",
       "    <tr>\n",
       "      <th>4</th>\n",
       "      <td>2018-11-01 21:05:52.796</td>\n",
       "      <td>21</td>\n",
       "      <td>1</td>\n",
       "      <td>44</td>\n",
       "      <td>11</td>\n",
       "      <td>2018</td>\n",
       "      <td>3</td>\n",
       "    </tr>\n",
       "  </tbody>\n",
       "</table>\n",
       "</div>"
      ],
      "text/plain": [
       "               start_time  hour  day  week  month  year  weekday\n",
       "0 2018-11-01 20:57:10.796    20    1    44     11  2018        3\n",
       "1 2018-11-01 21:01:46.796    21    1    44     11  2018        3\n",
       "2 2018-11-01 21:01:46.796    21    1    44     11  2018        3\n",
       "3 2018-11-01 21:02:12.796    21    1    44     11  2018        3\n",
       "4 2018-11-01 21:05:52.796    21    1    44     11  2018        3"
      ]
     },
     "execution_count": 27,
     "metadata": {},
     "output_type": "execute_result"
    }
   ],
   "source": [
    "time_df['start_time'] = time\n",
    "time_df['hour'] = time.dt.hour\n",
    "time_df['day'] = time.dt.day\n",
    "time_df['week'] = time.dt.isocalendar().week\n",
    "time_df['month'] = time.dt.month\n",
    "time_df['year'] = time.dt.year\n",
    "time_df['weekday'] = time.dt.weekday\n",
    "time_df.head()"
   ]
  },
  {
   "cell_type": "markdown",
   "id": "7773d6fc-0155-4495-8e58-fc2b1c60db74",
   "metadata": {},
   "source": [
    "#### insert into time table \n",
    "using `time_table_insert` in `SqL_Queires.py` file transfer the data in the songs table"
   ]
  },
  {
   "cell_type": "code",
   "execution_count": 29,
   "id": "7e57a441-331c-4f69-82d5-f4ee55863812",
   "metadata": {},
   "outputs": [
    {
     "name": "stderr",
     "output_type": "stream",
     "text": [
      "C:\\Users\\hheka\\AppData\\Local\\Temp\\ipykernel_22752\\3856767023.py:2: FutureWarning: Series.__getitem__ treating keys as positions is deprecated. In a future version, integer keys will always be treated as labels (consistent with DataFrame behavior). To access a value by position, use `ser.iloc[pos]`\n",
      "  cur.execute(time_table_insert, row)\n"
     ]
    }
   ],
   "source": [
    "for i, row in time_df.iterrows():\n",
    "    cur.execute(time_table_insert, row)\n",
    "    conn.commit()"
   ]
  },
  {
   "cell_type": "markdown",
   "id": "a0f0e8ff-d7d2-4225-b07f-9733aee7ab5f",
   "metadata": {},
   "source": [
    "### #5: songplays Table "
   ]
  },
  {
   "cell_type": "code",
   "execution_count": null,
   "id": "66fde96e-0619-4828-9cda-7b8cd086916e",
   "metadata": {},
   "outputs": [],
   "source": []
  },
  {
   "cell_type": "code",
   "execution_count": null,
   "id": "01f76cca-7d5f-4a04-bbae-945135dc3cf0",
   "metadata": {},
   "outputs": [],
   "source": []
  },
  {
   "cell_type": "code",
   "execution_count": null,
   "id": "d05c9084-132a-445a-b141-9decd4d28068",
   "metadata": {},
   "outputs": [],
   "source": []
  }
 ],
 "metadata": {
  "kernelspec": {
   "display_name": "Python 3 (ipykernel)",
   "language": "python",
   "name": "python3"
  },
  "language_info": {
   "codemirror_mode": {
    "name": "ipython",
    "version": 3
   },
   "file_extension": ".py",
   "mimetype": "text/x-python",
   "name": "python",
   "nbconvert_exporter": "python",
   "pygments_lexer": "ipython3",
   "version": "3.11.7"
  }
 },
 "nbformat": 4,
 "nbformat_minor": 5
}
