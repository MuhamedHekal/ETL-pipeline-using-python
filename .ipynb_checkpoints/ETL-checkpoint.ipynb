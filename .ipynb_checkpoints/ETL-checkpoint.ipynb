{
 "cells": [
  {
   "cell_type": "code",
   "execution_count": 5,
   "id": "48c96367-1101-4e46-9e72-666ca0c2fe21",
   "metadata": {},
   "outputs": [],
   "source": [
    "from Sql_Queries import * "
   ]
  },
  {
   "cell_type": "code",
   "execution_count": 6,
   "id": "44686d73-f9ec-4f30-9ef3-d2379fc46714",
   "metadata": {},
   "outputs": [
    {
     "name": "stdout",
     "output_type": "stream",
     "text": [
      " \n",
      "                        CREATE TABLE IF NOT EXISTS songsplays(\n",
      "                                songplay_id Serial PRIMARY KEY, \n",
      "                                start_time timestamp NOT NULL, \n",
      "                                user_id int NOT NULL, \n",
      "                                level varchar,\n",
      "                                song_id varchar NOT NULL, \n",
      "                                artist_id varchar NOT NULL, \n",
      "                                session_id int,\n",
      "                                location varchar , \n",
      "                                user_agent varchar\n",
      "                                ) \n",
      "                        \n"
     ]
    }
   ],
   "source": [
    "print(songplays_table_create)"
   ]
  },
  {
   "cell_type": "code",
   "execution_count": null,
   "id": "8be56f09-2d88-4cee-b7f3-adbd02cda788",
   "metadata": {},
   "outputs": [],
   "source": []
  }
 ],
 "metadata": {
  "kernelspec": {
   "display_name": "Python 3 (ipykernel)",
   "language": "python",
   "name": "python3"
  },
  "language_info": {
   "codemirror_mode": {
    "name": "ipython",
    "version": 3
   },
   "file_extension": ".py",
   "mimetype": "text/x-python",
   "name": "python",
   "nbconvert_exporter": "python",
   "pygments_lexer": "ipython3",
   "version": "3.11.7"
  }
 },
 "nbformat": 4,
 "nbformat_minor": 5
}
