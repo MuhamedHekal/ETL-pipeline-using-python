{
 "cells": [
  {
   "cell_type": "markdown",
   "id": "50136293-0364-462c-8cab-70ca21ea9e25",
   "metadata": {},
   "source": [
    "# ETL process\n",
    "develop the etl process before create the pipline to ensure that all process working with no error"
   ]
  },
  {
   "cell_type": "code",
   "execution_count": 25,
   "id": "48c96367-1101-4e46-9e72-666ca0c2fe21",
   "metadata": {},
   "outputs": [],
   "source": [
    "from Sql_Queries import * \n",
    "import psycopg2\n",
    "import pandas as pd\n",
    "import os"
   ]
  },
  {
   "cell_type": "code",
   "execution_count": 22,
   "id": "0e9e2c56-df92-4767-8653-57bb88235eb8",
   "metadata": {},
   "outputs": [],
   "source": [
    "try:\n",
    "    conn = psycopg2.connect('host= 127.0.0.1 dbname=sparkify user=postgres password=123')\n",
    "    cur= conn.cursor()\n",
    "except psycopg2.Error as e:\n",
    "    print(e)\n",
    "    print('can not connect to the sparkify database')"
   ]
  },
  {
   "cell_type": "code",
   "execution_count": 26,
   "id": "3d11de6c-78c7-4a82-90bd-ab1c72ab40e8",
   "metadata": {},
   "outputs": [],
   "source": [
    "def get_json_file_paths(folder_path):\n",
    "    \"\"\"\n",
    "    Recursively retrieves the absolute paths of all JSON files in the specified folder and its subfolders.\n",
    "    Args:\n",
    "        folder_path (str): Path to the root folder containing JSON files.\n",
    "    Returns:\n",
    "        list: A list of absolute file paths.\n",
    "    \"\"\"\n",
    "    json_file_paths = []\n",
    "    for root, _, files in os.walk(folder_path):\n",
    "        for filename in files:\n",
    "            if filename.endswith(\".json\"):\n",
    "                json_file_paths.append(os.path.join(root, filename))\n",
    "    return json_file_paths"
   ]
  },
  {
   "cell_type": "markdown",
   "id": "e97cc008-ad12-4af9-97c3-fd65524d0e93",
   "metadata": {},
   "source": [
    "## Song Dataset\n",
    "The first dataset is a subset of real data from the Million Song Dataset. Each file is in JSON format and contains metadata about a song and the artist of that song. The files are partitioned by the first three letters of each song's track ID\n",
    "### process song dataset\n",
    "use Song data set to perform ETL process and load the data into the **artists** and **songs** dimintion tables"
   ]
  },
  {
   "cell_type": "code",
   "execution_count": 28,
   "id": "3b8b8ebe-f465-4fff-abd0-57d387229d89",
   "metadata": {},
   "outputs": [],
   "source": [
    "songs_paths = get_json_file_paths(\"./data/song_data\")"
   ]
  },
  {
   "cell_type": "code",
   "execution_count": 30,
   "id": "44686d73-f9ec-4f30-9ef3-d2379fc46714",
   "metadata": {},
   "outputs": [
    {
     "data": {
      "text/html": [
       "<div>\n",
       "<style scoped>\n",
       "    .dataframe tbody tr th:only-of-type {\n",
       "        vertical-align: middle;\n",
       "    }\n",
       "\n",
       "    .dataframe tbody tr th {\n",
       "        vertical-align: top;\n",
       "    }\n",
       "\n",
       "    .dataframe thead th {\n",
       "        text-align: right;\n",
       "    }\n",
       "</style>\n",
       "<table border=\"1\" class=\"dataframe\">\n",
       "  <thead>\n",
       "    <tr style=\"text-align: right;\">\n",
       "      <th></th>\n",
       "      <th>num_songs</th>\n",
       "      <th>artist_id</th>\n",
       "      <th>artist_latitude</th>\n",
       "      <th>artist_longitude</th>\n",
       "      <th>artist_location</th>\n",
       "      <th>artist_name</th>\n",
       "      <th>song_id</th>\n",
       "      <th>title</th>\n",
       "      <th>duration</th>\n",
       "      <th>year</th>\n",
       "    </tr>\n",
       "  </thead>\n",
       "  <tbody>\n",
       "    <tr>\n",
       "      <th>0</th>\n",
       "      <td>1</td>\n",
       "      <td>ARD7TVE1187B99BFB1</td>\n",
       "      <td>NaN</td>\n",
       "      <td>NaN</td>\n",
       "      <td>California - LA</td>\n",
       "      <td>Casual</td>\n",
       "      <td>SOMZWCG12A8C13C480</td>\n",
       "      <td>I Didn't Mean To</td>\n",
       "      <td>218.93179</td>\n",
       "      <td>0</td>\n",
       "    </tr>\n",
       "  </tbody>\n",
       "</table>\n",
       "</div>"
      ],
      "text/plain": [
       "   num_songs           artist_id  artist_latitude  artist_longitude  \\\n",
       "0          1  ARD7TVE1187B99BFB1              NaN               NaN   \n",
       "\n",
       "   artist_location artist_name             song_id             title  \\\n",
       "0  California - LA      Casual  SOMZWCG12A8C13C480  I Didn't Mean To   \n",
       "\n",
       "    duration  year  \n",
       "0  218.93179     0  "
      ]
     },
     "execution_count": 30,
     "metadata": {},
     "output_type": "execute_result"
    }
   ],
   "source": [
    "song_df = pd.read_json(songs_paths[0], lines=True)\n",
    "song_df"
   ]
  },
  {
   "cell_type": "markdown",
   "id": "ac0d4396-fb26-45aa-9e45-bc68a0737640",
   "metadata": {},
   "source": [
    "### #1: Songs Table\n",
    "|FROM|--->|TO|\n",
    "|---|---|---|\n",
    "|song_id|--->|song_id|\n",
    "title|--->|title\n",
    "artist_id|--->|artist_id \n",
    "year|--->|year\n",
    "duration|--->|duration "
   ]
  },
  {
   "cell_type": "code",
   "execution_count": 31,
   "id": "1d9566f8-3fd7-4621-a800-f0baa745e24d",
   "metadata": {},
   "outputs": [
    {
     "data": {
      "text/plain": [
       "array(['SOMZWCG12A8C13C480', \"I Didn't Mean To\", 'ARD7TVE1187B99BFB1', 0,\n",
       "       218.93179], dtype=object)"
      ]
     },
     "execution_count": 31,
     "metadata": {},
     "output_type": "execute_result"
    }
   ],
   "source": [
    "songs = song_df[['song_id', 'title', 'artist_id', 'year', 'duration']].values[0]\n",
    "songs"
   ]
  },
  {
   "cell_type": "markdown",
   "id": "46ce8e92-2885-48bc-b9c3-07bafa6c2b2d",
   "metadata": {},
   "source": [
    "#### insert into songs table \n",
    "using `songs_table_insert` in `SqL_Queires.py` file transfer the data in the songs table"
   ]
  },
  {
   "cell_type": "code",
   "execution_count": 32,
   "id": "047d379d-4f56-47d1-ba36-5a8a7daf851b",
   "metadata": {},
   "outputs": [],
   "source": [
    "cur.execute(songs_table_insert, songs)\n",
    "conn.commit()"
   ]
  },
  {
   "cell_type": "markdown",
   "id": "447c9dd3-6066-433b-ba0c-4b6dfc27a7fc",
   "metadata": {},
   "source": [
    "### #2: artists Table \n",
    "|FROM|--->|TO|\n",
    "|---|---|---|\n",
    "|artist_id|--->|artist_id|\n",
    "artist_name|--->|name\n",
    "artist_location|--->|location \n",
    "artist_latitude|--->|latitude\n",
    "artist_longitude|--->|longitude "
   ]
  },
  {
   "cell_type": "code",
   "execution_count": 39,
   "id": "3a49fcf3-040d-46f2-bc30-d0b94c89abd4",
   "metadata": {},
   "outputs": [
    {
     "data": {
      "text/plain": [
       "array(['ARD7TVE1187B99BFB1', 'Casual', 'California - LA', nan, nan],\n",
       "      dtype=object)"
      ]
     },
     "execution_count": 39,
     "metadata": {},
     "output_type": "execute_result"
    }
   ],
   "source": [
    "artists= song_df[['artist_id', 'artist_name', 'artist_location', 'artist_latitude', 'artist_longitude']].values[0]\n",
    "artists"
   ]
  },
  {
   "cell_type": "code",
   "execution_count": 40,
   "id": "7369af66-95b9-43fe-a4ee-60b0b80e86ac",
   "metadata": {},
   "outputs": [],
   "source": [
    "cur.execute(artists_table_insert, artists)\n",
    "conn.commit()"
   ]
  },
  {
   "cell_type": "code",
   "execution_count": null,
   "id": "506b1e85-5280-4a7b-a1c7-fd7cba45bb05",
   "metadata": {},
   "outputs": [],
   "source": []
  },
  {
   "cell_type": "code",
   "execution_count": null,
   "id": "ba69f090-c448-423e-8c09-9c5ba19a509a",
   "metadata": {},
   "outputs": [],
   "source": []
  },
  {
   "cell_type": "code",
   "execution_count": null,
   "id": "975e71ad-d286-4643-8ec0-cb96eb55aeec",
   "metadata": {},
   "outputs": [],
   "source": []
  },
  {
   "cell_type": "code",
   "execution_count": null,
   "id": "dd77ffb8-2ebc-4d6f-982a-54bd97e6bdc0",
   "metadata": {},
   "outputs": [],
   "source": []
  },
  {
   "cell_type": "code",
   "execution_count": null,
   "id": "98126c2b-a418-4e7b-982d-57f92676509f",
   "metadata": {},
   "outputs": [],
   "source": []
  },
  {
   "cell_type": "code",
   "execution_count": null,
   "id": "3f3ff70e-004c-433b-aafb-6f8959c5fe89",
   "metadata": {},
   "outputs": [],
   "source": []
  },
  {
   "cell_type": "code",
   "execution_count": null,
   "id": "9f8ab281-a606-4b38-923f-1131234111d4",
   "metadata": {},
   "outputs": [],
   "source": []
  },
  {
   "cell_type": "code",
   "execution_count": null,
   "id": "f0e815a6-a686-40d5-a41d-5d2bfc97c161",
   "metadata": {},
   "outputs": [],
   "source": []
  },
  {
   "cell_type": "code",
   "execution_count": null,
   "id": "1a76fec1-0cd9-4453-9dd7-ca741bf00553",
   "metadata": {},
   "outputs": [],
   "source": []
  },
  {
   "cell_type": "code",
   "execution_count": null,
   "id": "7e57a441-331c-4f69-82d5-f4ee55863812",
   "metadata": {},
   "outputs": [],
   "source": []
  },
  {
   "cell_type": "code",
   "execution_count": null,
   "id": "56652524-bd67-4433-b284-e4cbec6e8ce5",
   "metadata": {},
   "outputs": [],
   "source": []
  },
  {
   "cell_type": "code",
   "execution_count": null,
   "id": "01f76cca-7d5f-4a04-bbae-945135dc3cf0",
   "metadata": {},
   "outputs": [],
   "source": []
  },
  {
   "cell_type": "code",
   "execution_count": 41,
   "id": "0a7b8305-cab9-4232-8615-fbc2f22738b5",
   "metadata": {},
   "outputs": [
    {
     "name": "stdout",
     "output_type": "stream",
     "text": [
      "('ARD7TVE1187B99BFB1', 'Casual', 'California - LA', Decimal('NaN'), Decimal('NaN'))\n"
     ]
    }
   ],
   "source": [
    "cur.execute('Select * from artists')\n",
    "row = cur.fetchone()\n",
    "while row:\n",
    "    print(row)\n",
    "    row = cur.fetchone()"
   ]
  },
  {
   "cell_type": "code",
   "execution_count": null,
   "id": "d05c9084-132a-445a-b141-9decd4d28068",
   "metadata": {},
   "outputs": [],
   "source": []
  }
 ],
 "metadata": {
  "kernelspec": {
   "display_name": "Python 3 (ipykernel)",
   "language": "python",
   "name": "python3"
  },
  "language_info": {
   "codemirror_mode": {
    "name": "ipython",
    "version": 3
   },
   "file_extension": ".py",
   "mimetype": "text/x-python",
   "name": "python",
   "nbconvert_exporter": "python",
   "pygments_lexer": "ipython3",
   "version": "3.11.7"
  }
 },
 "nbformat": 4,
 "nbformat_minor": 5
}
